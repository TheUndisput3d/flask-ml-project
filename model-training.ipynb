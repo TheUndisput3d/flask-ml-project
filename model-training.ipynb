{
 "cells": [
  {
   "cell_type": "markdown",
   "id": "1ff7c2e1-74cb-4610-8d09-b62ab96c9fff",
   "metadata": {},
   "source": [
    "### 1. Importing Libraries"
   ]
  },
  {
   "cell_type": "code",
   "execution_count": 19,
   "id": "d1aeefe2-1255-420f-8ca4-e3954c7a949f",
   "metadata": {},
   "outputs": [],
   "source": [
    "import numpy as np\n",
    "import pandas as pd\n",
    "import matplotlib.pyplot as plt\n",
    "import sklearn\n",
    "from sklearn.impute import SimpleImputer\n",
    "from sklearn.preprocessing import StandardScaler, OneHotEncoder\n",
    "from sklearn.pipeline import Pipeline\n",
    "from sklearn.compose import ColumnTransformer\n",
    "import joblib"
   ]
  },
  {
   "cell_type": "markdown",
   "id": "03627e38-b6c6-4080-ab37-96ef871ef446",
   "metadata": {},
   "source": [
    "### 2. Display Settings"
   ]
  },
  {
   "cell_type": "code",
   "execution_count": 2,
   "id": "f19f2d4c-4650-4af6-9274-c570a582570c",
   "metadata": {},
   "outputs": [],
   "source": [
    "pd.set_option(\"display.max_columns\", None)\n",
    "sklearn.set_config(transform_output=\"pandas\")"
   ]
  },
  {
   "cell_type": "markdown",
   "id": "08da9797-17c5-4606-a163-5160ffad11e0",
   "metadata": {},
   "source": [
    "### 3. Get the data\n"
   ]
  },
  {
   "cell_type": "code",
   "execution_count": 5,
   "id": "8f1e6987-e78d-4794-b343-5e9aa9d5ddca",
   "metadata": {},
   "outputs": [],
   "source": [
    "train_df = pd.read_csv(\"data/train.csv\")\n",
    "val_df = pd.read_csv(\"data/validation.csv\")\n",
    "test_df = pd.read_csv(\"data/test.csv\")"
   ]
  },
  {
   "cell_type": "code",
   "execution_count": 6,
   "id": "911d2f38-e1a2-47b2-b61c-80ebcc5433d9",
   "metadata": {},
   "outputs": [
    {
     "data": {
      "text/html": [
       "<div>\n",
       "<style scoped>\n",
       "    .dataframe tbody tr th:only-of-type {\n",
       "        vertical-align: middle;\n",
       "    }\n",
       "\n",
       "    .dataframe tbody tr th {\n",
       "        vertical-align: top;\n",
       "    }\n",
       "\n",
       "    .dataframe thead th {\n",
       "        text-align: right;\n",
       "    }\n",
       "</style>\n",
       "<table border=\"1\" class=\"dataframe\">\n",
       "  <thead>\n",
       "    <tr style=\"text-align: right;\">\n",
       "      <th></th>\n",
       "      <th>airline</th>\n",
       "      <th>date_of_journey</th>\n",
       "      <th>source</th>\n",
       "      <th>destination</th>\n",
       "      <th>dep_time</th>\n",
       "      <th>arrival_time</th>\n",
       "      <th>duration</th>\n",
       "      <th>total_stops</th>\n",
       "      <th>additional_info</th>\n",
       "      <th>price</th>\n",
       "    </tr>\n",
       "  </thead>\n",
       "  <tbody>\n",
       "    <tr>\n",
       "      <th>0</th>\n",
       "      <td>Jet Airways</td>\n",
       "      <td>2019-03-18</td>\n",
       "      <td>Mumbai</td>\n",
       "      <td>Hyderabad</td>\n",
       "      <td>10:20:00</td>\n",
       "      <td>11:50:00</td>\n",
       "      <td>90</td>\n",
       "      <td>0.0</td>\n",
       "      <td>In-flight meal not included</td>\n",
       "      <td>4160</td>\n",
       "    </tr>\n",
       "    <tr>\n",
       "      <th>1</th>\n",
       "      <td>Goair</td>\n",
       "      <td>2019-04-06</td>\n",
       "      <td>Banglore</td>\n",
       "      <td>Delhi</td>\n",
       "      <td>07:45:00</td>\n",
       "      <td>10:40:00</td>\n",
       "      <td>175</td>\n",
       "      <td>0.0</td>\n",
       "      <td>No Info</td>\n",
       "      <td>4632</td>\n",
       "    </tr>\n",
       "    <tr>\n",
       "      <th>2</th>\n",
       "      <td>Jet Airways</td>\n",
       "      <td>2019-06-06</td>\n",
       "      <td>Delhi</td>\n",
       "      <td>Cochin</td>\n",
       "      <td>16:00:00</td>\n",
       "      <td>04:25:00</td>\n",
       "      <td>745</td>\n",
       "      <td>1.0</td>\n",
       "      <td>In-flight meal not included</td>\n",
       "      <td>10262</td>\n",
       "    </tr>\n",
       "    <tr>\n",
       "      <th>3</th>\n",
       "      <td>Indigo</td>\n",
       "      <td>2019-03-09</td>\n",
       "      <td>Delhi</td>\n",
       "      <td>Cochin</td>\n",
       "      <td>11:55:00</td>\n",
       "      <td>21:20:00</td>\n",
       "      <td>565</td>\n",
       "      <td>2.0</td>\n",
       "      <td>No Info</td>\n",
       "      <td>8378</td>\n",
       "    </tr>\n",
       "    <tr>\n",
       "      <th>4</th>\n",
       "      <td>Indigo</td>\n",
       "      <td>2019-06-03</td>\n",
       "      <td>Delhi</td>\n",
       "      <td>Cochin</td>\n",
       "      <td>11:25:00</td>\n",
       "      <td>21:00:00</td>\n",
       "      <td>575</td>\n",
       "      <td>1.0</td>\n",
       "      <td>No Info</td>\n",
       "      <td>6093</td>\n",
       "    </tr>\n",
       "    <tr>\n",
       "      <th>...</th>\n",
       "      <td>...</td>\n",
       "      <td>...</td>\n",
       "      <td>...</td>\n",
       "      <td>...</td>\n",
       "      <td>...</td>\n",
       "      <td>...</td>\n",
       "      <td>...</td>\n",
       "      <td>...</td>\n",
       "      <td>...</td>\n",
       "      <td>...</td>\n",
       "    </tr>\n",
       "    <tr>\n",
       "      <th>635</th>\n",
       "      <td>Indigo</td>\n",
       "      <td>2019-05-27</td>\n",
       "      <td>Delhi</td>\n",
       "      <td>Cochin</td>\n",
       "      <td>10:35:00</td>\n",
       "      <td>21:00:00</td>\n",
       "      <td>625</td>\n",
       "      <td>1.0</td>\n",
       "      <td>No Info</td>\n",
       "      <td>6314</td>\n",
       "    </tr>\n",
       "    <tr>\n",
       "      <th>636</th>\n",
       "      <td>Air India</td>\n",
       "      <td>2019-05-09</td>\n",
       "      <td>Kolkata</td>\n",
       "      <td>Banglore</td>\n",
       "      <td>08:20:00</td>\n",
       "      <td>07:55:00</td>\n",
       "      <td>1415</td>\n",
       "      <td>2.0</td>\n",
       "      <td>No Info</td>\n",
       "      <td>10697</td>\n",
       "    </tr>\n",
       "    <tr>\n",
       "      <th>637</th>\n",
       "      <td>Multiple Carriers</td>\n",
       "      <td>2019-06-01</td>\n",
       "      <td>Delhi</td>\n",
       "      <td>Cochin</td>\n",
       "      <td>07:30:00</td>\n",
       "      <td>19:00:00</td>\n",
       "      <td>690</td>\n",
       "      <td>1.0</td>\n",
       "      <td>No Info</td>\n",
       "      <td>11200</td>\n",
       "    </tr>\n",
       "    <tr>\n",
       "      <th>638</th>\n",
       "      <td>Jet Airways</td>\n",
       "      <td>2019-03-06</td>\n",
       "      <td>Delhi</td>\n",
       "      <td>Cochin</td>\n",
       "      <td>17:55:00</td>\n",
       "      <td>04:25:00</td>\n",
       "      <td>2070</td>\n",
       "      <td>2.0</td>\n",
       "      <td>No Info</td>\n",
       "      <td>17072</td>\n",
       "    </tr>\n",
       "    <tr>\n",
       "      <th>639</th>\n",
       "      <td>Indigo</td>\n",
       "      <td>2019-03-21</td>\n",
       "      <td>Delhi</td>\n",
       "      <td>Cochin</td>\n",
       "      <td>16:00:00</td>\n",
       "      <td>01:35:00</td>\n",
       "      <td>575</td>\n",
       "      <td>1.0</td>\n",
       "      <td>No Info</td>\n",
       "      <td>9264</td>\n",
       "    </tr>\n",
       "  </tbody>\n",
       "</table>\n",
       "<p>640 rows × 10 columns</p>\n",
       "</div>"
      ],
      "text/plain": [
       "               airline date_of_journey    source destination  dep_time  \\\n",
       "0          Jet Airways      2019-03-18    Mumbai   Hyderabad  10:20:00   \n",
       "1                Goair      2019-04-06  Banglore       Delhi  07:45:00   \n",
       "2          Jet Airways      2019-06-06     Delhi      Cochin  16:00:00   \n",
       "3               Indigo      2019-03-09     Delhi      Cochin  11:55:00   \n",
       "4               Indigo      2019-06-03     Delhi      Cochin  11:25:00   \n",
       "..                 ...             ...       ...         ...       ...   \n",
       "635             Indigo      2019-05-27     Delhi      Cochin  10:35:00   \n",
       "636          Air India      2019-05-09   Kolkata    Banglore  08:20:00   \n",
       "637  Multiple Carriers      2019-06-01     Delhi      Cochin  07:30:00   \n",
       "638        Jet Airways      2019-03-06     Delhi      Cochin  17:55:00   \n",
       "639             Indigo      2019-03-21     Delhi      Cochin  16:00:00   \n",
       "\n",
       "    arrival_time  duration  total_stops              additional_info  price  \n",
       "0       11:50:00        90          0.0  In-flight meal not included   4160  \n",
       "1       10:40:00       175          0.0                      No Info   4632  \n",
       "2       04:25:00       745          1.0  In-flight meal not included  10262  \n",
       "3       21:20:00       565          2.0                      No Info   8378  \n",
       "4       21:00:00       575          1.0                      No Info   6093  \n",
       "..           ...       ...          ...                          ...    ...  \n",
       "635     21:00:00       625          1.0                      No Info   6314  \n",
       "636     07:55:00      1415          2.0                      No Info  10697  \n",
       "637     19:00:00       690          1.0                      No Info  11200  \n",
       "638     04:25:00      2070          2.0                      No Info  17072  \n",
       "639     01:35:00       575          1.0                      No Info   9264  \n",
       "\n",
       "[640 rows x 10 columns]"
      ]
     },
     "execution_count": 6,
     "metadata": {},
     "output_type": "execute_result"
    }
   ],
   "source": [
    "train_df"
   ]
  },
  {
   "cell_type": "markdown",
   "id": "35588d02-cfe5-4ec7-990d-a0164e486923",
   "metadata": {},
   "source": [
    "### 3.1 Split the data"
   ]
  },
  {
   "cell_type": "code",
   "execution_count": 7,
   "id": "6f9cdbde-aee2-492f-8a56-403505aa56c4",
   "metadata": {},
   "outputs": [],
   "source": [
    "def split_data(data):\n",
    "    X = data.drop(columns=\"price\")\n",
    "    y = data.price.copy()\n",
    "    return (X, y)\n",
    "    "
   ]
  },
  {
   "cell_type": "code",
   "execution_count": 8,
   "id": "8594b247-7c90-41ea-afa4-7f46e8bff719",
   "metadata": {},
   "outputs": [],
   "source": [
    "X_train, y_train = split_data(train_df)"
   ]
  },
  {
   "cell_type": "code",
   "execution_count": 11,
   "id": "94fab4a4-cda2-4892-ac6a-dee3595689fe",
   "metadata": {},
   "outputs": [
    {
     "data": {
      "text/plain": [
       "((160, 9), (160,))"
      ]
     },
     "execution_count": 11,
     "metadata": {},
     "output_type": "execute_result"
    }
   ],
   "source": [
    "X_val, y_val = split_data(val_df)\n",
    "X_val.shape, y_val.shape"
   ]
  },
  {
   "cell_type": "code",
   "execution_count": 13,
   "id": "e156d7a1-d92f-45a4-a639-7435df030c9d",
   "metadata": {},
   "outputs": [
    {
     "data": {
      "text/plain": [
       "((200, 9), (200,))"
      ]
     },
     "execution_count": 13,
     "metadata": {},
     "output_type": "execute_result"
    }
   ],
   "source": [
    "X_test, y_test = split_data(test_df)\n",
    "X_test.shape, y_test.shape"
   ]
  },
  {
   "cell_type": "markdown",
   "id": "029ba428-dbc4-4c98-8776-6df9e19ce5d5",
   "metadata": {},
   "source": [
    "### 3.2 Meta-info"
   ]
  },
  {
   "cell_type": "code",
   "execution_count": 14,
   "id": "af9f8c60-4772-4a70-a59f-2e1f8f31ced6",
   "metadata": {},
   "outputs": [
    {
     "name": "stdout",
     "output_type": "stream",
     "text": [
      "<class 'pandas.core.frame.DataFrame'>\n",
      "RangeIndex: 640 entries, 0 to 639\n",
      "Data columns (total 9 columns):\n",
      " #   Column           Non-Null Count  Dtype  \n",
      "---  ------           --------------  -----  \n",
      " 0   airline          640 non-null    object \n",
      " 1   date_of_journey  640 non-null    object \n",
      " 2   source           640 non-null    object \n",
      " 3   destination      640 non-null    object \n",
      " 4   dep_time         640 non-null    object \n",
      " 5   arrival_time     640 non-null    object \n",
      " 6   duration         640 non-null    int64  \n",
      " 7   total_stops      640 non-null    float64\n",
      " 8   additional_info  640 non-null    object \n",
      "dtypes: float64(1), int64(1), object(7)\n",
      "memory usage: 45.1+ KB\n"
     ]
    }
   ],
   "source": [
    "X_train.info()"
   ]
  },
  {
   "cell_type": "markdown",
   "id": "aa9147dd-b204-4383-b25c-3e1b4f1b2519",
   "metadata": {},
   "source": [
    "### 4. Data Preprocessing"
   ]
  },
  {
   "cell_type": "code",
   "execution_count": 23,
   "id": "9561b990-0791-4adb-93e5-626571860856",
   "metadata": {},
   "outputs": [],
   "source": [
    "dt_cols = [\"date_of_journey\", \"dep_time\", \"arrival_time\"]\n",
    "\n",
    "num_cols = [\"duration\", \"total_stops\"]\n",
    "\n",
    "cat_cols = [col for col in X_train.columns if (col not in dt_cols) and (col not in num_cols)]"
   ]
  },
  {
   "cell_type": "code",
   "execution_count": 24,
   "id": "b971bb16-67d3-4eff-89cc-43d7ff77b3ec",
   "metadata": {},
   "outputs": [
    {
     "data": {
      "text/plain": [
       "['airline', 'source', 'destination', 'additional_info']"
      ]
     },
     "execution_count": 24,
     "metadata": {},
     "output_type": "execute_result"
    }
   ],
   "source": [
    "cat_cols"
   ]
  },
  {
   "cell_type": "code",
   "execution_count": null,
   "id": "48e24bc5-bc61-458d-abe4-af9f2e4a68ed",
   "metadata": {},
   "outputs": [],
   "source": [
    "num_pipe = Pipeline(\n",
    "    \n",
    ")"
   ]
  }
 ],
 "metadata": {
  "kernelspec": {
   "display_name": "Python (flask_ml)",
   "language": "python",
   "name": "flask_ml"
  },
  "language_info": {
   "codemirror_mode": {
    "name": "ipython",
    "version": 3
   },
   "file_extension": ".py",
   "mimetype": "text/x-python",
   "name": "python",
   "nbconvert_exporter": "python",
   "pygments_lexer": "ipython3",
   "version": "3.11.9"
  }
 },
 "nbformat": 4,
 "nbformat_minor": 5
}
